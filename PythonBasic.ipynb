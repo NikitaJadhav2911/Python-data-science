{
  "nbformat": 4,
  "nbformat_minor": 0,
  "metadata": {
    "colab": {
      "provenance": []
    },
    "kernelspec": {
      "name": "python3",
      "display_name": "Python 3"
    },
    "language_info": {
      "name": "python"
    }
  },
  "cells": [
    {
      "cell_type": "code",
      "execution_count": null,
      "metadata": {
        "id": "IC9qNX_21nyd"
      },
      "outputs": [],
      "source": []
    },
    {
      "cell_type": "markdown",
      "source": [
        "#Python Basics"
      ],
      "metadata": {
        "id": "swoTlYvw1w88"
      }
    },
    {
      "cell_type": "markdown",
      "source": [
        "#Theory Questions\n"
      ],
      "metadata": {
        "id": "6iRsfDQf126t"
      }
    },
    {
      "cell_type": "markdown",
      "source": [
        "1.What is Python, and why is it popular?\n",
        "\n",
        "Python is a high-level, interpreted programming language known for its simplicity, readability, and versatility. It is popular because of its easy syntax, large community support, extensive libraries, and wide range of applications, including web development, data science, AI, and automation.\n",
        "\n"
      ],
      "metadata": {
        "id": "NIs3pu2S1w5k"
      }
    },
    {
      "cell_type": "markdown",
      "source": [
        "What is an interpreter in Python?\n",
        "\n",
        "An interpreter in Python is a program that executes Python code line by line, converting it into machine-readable instructions at runtime, rather than compiling it all at once."
      ],
      "metadata": {
        "id": "j4qxNSsV19EN"
      }
    },
    {
      "cell_type": "markdown",
      "source": [
        "What are pre-defined keywords in Python?\n",
        "\n",
        "Pre-defined keywords in Python are reserved words that have a specific meaning and cannot be used as variable names. Examples include if, else, for, while, def, class, return, and import."
      ],
      "metadata": {
        "id": "zl5o4Wcr1wqR"
      }
    },
    {
      "cell_type": "markdown",
      "source": [
        "Can keywords be used as variable names?\n",
        "\n",
        "No, Python keywords cannot be used as variable names because they are reserved for specific operations and syntax within the language."
      ],
      "metadata": {
        "id": "TyV51Q-R1wbE"
      }
    },
    {
      "cell_type": "markdown",
      "source": [
        "What is mutability in Python?\n",
        "\n",
        "Mutability refers to whether an object’s value can be changed after it is created. Mutable objects (like lists) can be modified, whereas immutable objects (like tuples) cannot be changed after their creation."
      ],
      "metadata": {
        "id": "wJwDM_ro3Fkr"
      }
    },
    {
      "cell_type": "markdown",
      "source": [
        "Why are lists mutable, but tuples are immutable?\n",
        "\n",
        "Lists are mutable because they are designed to hold dynamic collections of items that can change in size and content. Tuples, on the other hand, are immutable to ensure stability and performance, making them useful for fixed data collections.\n"
      ],
      "metadata": {
        "id": "CEmWiJgC3Pvn"
      }
    },
    {
      "cell_type": "markdown",
      "source": [
        "What is the difference between == and is operators in Python?\n",
        "\n",
        "== checks if two values are equal.\n",
        "   \n",
        "is checks if two variables reference the same memory location (object identity)."
      ],
      "metadata": {
        "id": "JF_GKSJz3bVi"
      }
    },
    {
      "cell_type": "markdown",
      "source": [
        "What are logical operators in Python?\n",
        "\n",
        "Python has three logical operators:\n",
        "\n",
        "and: Returns True if both conditions are True.\n",
        "or: Returns True if at least one condition is True.\n",
        "not: Returns the opposite boolean value.\n"
      ],
      "metadata": {
        "id": "WZqpM4yX3yUf"
      }
    },
    {
      "cell_type": "markdown",
      "source": [
        "What is type casting in Python?\n",
        "\n",
        "Type casting (or type conversion) is the process of converting one data type into another, such as converting a string into an integer using int(\"10\")."
      ],
      "metadata": {
        "id": "YguRURnj39MP"
      }
    },
    {
      "cell_type": "markdown",
      "source": [
        "What is the difference between implicit and explicit type casting?\n",
        "\n",
        "Implicit type casting: Python automatically converts a smaller data type into a larger one (e.g., int to float).\n",
        "Explicit type casting: The programmer manually converts a data type using functions like int(), float(), or str()."
      ],
      "metadata": {
        "id": "jPWEDaln4HIf"
      }
    },
    {
      "cell_type": "markdown",
      "source": [
        "What is the purpose of conditional statements in Python?\n",
        "\n",
        "Conditional statements (if, elif, else) allow a program to make decisions based on conditions, enabling dynamic behavior based on user input or computed values.\n"
      ],
      "metadata": {
        "id": "3irL_buq4RI7"
      }
    },
    {
      "cell_type": "markdown",
      "source": [
        "How does the elif statement work?\n",
        "\n",
        "The elif statement (short for “else if”) allows multiple conditions to be checked sequentially. If the if condition is False, Python checks the elif conditions in order until one evaluates to True."
      ],
      "metadata": {
        "id": "vOsezwKr4a12"
      }
    },
    {
      "cell_type": "markdown",
      "source": [
        "What is the difference between for and while loops?\n",
        "\n",
        "for loop: Used when the number of iterations is known (e.g., iterating over a list or range).\n",
        "while loop: Used when the number of iterations is unknown and depends on a condition being True."
      ],
      "metadata": {
        "id": "KBsELrtA4hjD"
      }
    },
    {
      "cell_type": "markdown",
      "source": [
        "Describe a scenario where a while loop is more suitable than a for loop.\n",
        "\n",
        "A while loop is more suitable when the loop should continue running until a condition is met, such as waiting for user input or processing data until a termination signal is received."
      ],
      "metadata": {
        "id": "Jctq5wVx4ntb"
      }
    },
    {
      "cell_type": "markdown",
      "source": [
        "#Practical Question"
      ],
      "metadata": {
        "id": "UxpkgcTI4sX4"
      }
    },
    {
      "cell_type": "code",
      "source": [
        "#Write a Python program to print \"Hello, World!\"\n",
        "print(\"Hello, World!\")"
      ],
      "metadata": {
        "colab": {
          "base_uri": "https://localhost:8080/"
        },
        "id": "R1mlKdD441Jb",
        "outputId": "002eccbb-5cd7-45a0-a255-7f06af391f94"
      },
      "execution_count": 1,
      "outputs": [
        {
          "output_type": "stream",
          "name": "stdout",
          "text": [
            "Hello, World!\n"
          ]
        }
      ]
    },
    {
      "cell_type": "code",
      "source": [
        "#Write a Python program that displays your name and age\n",
        "name = input(\"Enter your name: \")\n",
        "age = input(\"Enter your age: \")\n",
        "print(f\"My name is {name} and I am {age} years old.\")"
      ],
      "metadata": {
        "colab": {
          "base_uri": "https://localhost:8080/"
        },
        "id": "fNsh3niw5Sgs",
        "outputId": "f195df16-c7be-47c8-acef-fc26b28223e5"
      },
      "execution_count": 2,
      "outputs": [
        {
          "output_type": "stream",
          "name": "stdout",
          "text": [
            "Enter your name: Nikita\n",
            "Enter your age: 21\n",
            "My name is Nikita and I am 21 years old.\n"
          ]
        }
      ]
    },
    {
      "cell_type": "code",
      "source": [
        "#Write code to print all the pre-defined keywords in Python using the keyword library\n",
        "import keyword\n",
        "print(keyword.kwlist)"
      ],
      "metadata": {
        "colab": {
          "base_uri": "https://localhost:8080/"
        },
        "id": "U948FvdY53DO",
        "outputId": "59a3d5df-dc37-4f7f-f029-6b8f6b8d57d8"
      },
      "execution_count": 3,
      "outputs": [
        {
          "output_type": "stream",
          "name": "stdout",
          "text": [
            "['False', 'None', 'True', 'and', 'as', 'assert', 'async', 'await', 'break', 'class', 'continue', 'def', 'del', 'elif', 'else', 'except', 'finally', 'for', 'from', 'global', 'if', 'import', 'in', 'is', 'lambda', 'nonlocal', 'not', 'or', 'pass', 'raise', 'return', 'try', 'while', 'with', 'yield']\n"
          ]
        }
      ]
    },
    {
      "cell_type": "code",
      "source": [
        "#Write a program that checks if a given word is a Python keyword\n",
        "import keyword\n",
        "keywords = keyword.kwlist\n",
        "keys = input(\"Enter the keyword: \")\n",
        "if keys in keywords:\n",
        "  print(f\"'{keys}' is a Python Keyword.\")\n",
        "else:\n",
        "  print(f\"'{keys}' is not Python Keyword\")"
      ],
      "metadata": {
        "colab": {
          "base_uri": "https://localhost:8080/"
        },
        "id": "eWtTk9ld6F51",
        "outputId": "e8af0329-446d-4fa1-de09-c6d5d36ac10a"
      },
      "execution_count": 6,
      "outputs": [
        {
          "output_type": "stream",
          "name": "stdout",
          "text": [
            "Enter the keyword: Yes\n",
            "'Yes' is not Python Keyword\n"
          ]
        }
      ]
    },
    {
      "cell_type": "code",
      "source": [
        "#Write a function to demonstrate the behavior of mutable and immutable arguments.\n",
        "def modify_data(immutable, mutable):\n",
        "    immutable += (4,)\n",
        "    mutable.append(4)\n",
        "\n",
        "num_tuple = (1, 2, 3)\n",
        "num_list = [1, 2, 3]\n",
        "\n",
        "modify_data(num_tuple, num_list)\n",
        "\n",
        "print(\"Tuple after function call:\", num_tuple)\n",
        "print(\"List after function call:\", num_list)\n"
      ],
      "metadata": {
        "colab": {
          "base_uri": "https://localhost:8080/"
        },
        "id": "b2C8TJ-_7L_P",
        "outputId": "84ce9fc7-7e22-4c0b-e034-b1dd1f076125"
      },
      "execution_count": 7,
      "outputs": [
        {
          "output_type": "stream",
          "name": "stdout",
          "text": [
            "Tuple after function call: (1, 2, 3)\n",
            "List after function call: [1, 2, 3, 4]\n"
          ]
        }
      ]
    },
    {
      "cell_type": "code",
      "source": [
        "#Write a program that performs basic arithmetic operations on two user-input numbers.\n",
        "a = int(input(\"Enter num 1: \"))\n",
        "b = int(input(\"Enter num 2: \"))\n",
        "c = a+b\n",
        "d = a-b\n",
        "e = a/b\n",
        "f = a*b\n",
        "print(c)\n",
        "print(d)\n",
        "print(e)\n",
        "print(f)\n"
      ],
      "metadata": {
        "colab": {
          "base_uri": "https://localhost:8080/"
        },
        "id": "YqddfWfr8BLi",
        "outputId": "cef845fc-3c8d-41b3-c8d2-4515ea1ef205"
      },
      "execution_count": 11,
      "outputs": [
        {
          "output_type": "stream",
          "name": "stdout",
          "text": [
            "Enter num 1: 45\n",
            "Enter num 2: 23\n",
            "68\n",
            "22\n",
            "1.9565217391304348\n",
            "1035\n"
          ]
        }
      ]
    },
    {
      "cell_type": "code",
      "source": [
        "# Write a program to demonstrate the use of logical operators.\n",
        "a = True\n",
        "b = False\n",
        "print(f\"a and b: {a and b}\")\n",
        "print(f\"a or b: {a or b}\")\n",
        "print(f\"not a: {not a}\")"
      ],
      "metadata": {
        "colab": {
          "base_uri": "https://localhost:8080/"
        },
        "id": "OMs6Qsya9IJR",
        "outputId": "d92adf29-0f05-47e4-815a-c914a431abef"
      },
      "execution_count": 12,
      "outputs": [
        {
          "output_type": "stream",
          "name": "stdout",
          "text": [
            "a and b: False\n",
            "a or b: True\n",
            "not a: False\n"
          ]
        }
      ]
    },
    {
      "cell_type": "code",
      "source": [
        "#Create a list and tuple in Python, and demonstrate how attempting to change an element works differently\n",
        "#for each.\n",
        "my_list = [1, 2, 3]\n",
        "my_tuple = (1, 2, 3)\n",
        "\n",
        "my_list[1] = 5  # This is allowed\n",
        "print(\"Modified list:\", my_list)\n",
        "\n",
        "try:\n",
        "    my_tuple[1] = 5  # This will raise an error\n",
        "except TypeError as e:\n",
        "    print(\"Error:\", e)\n",
        "\n"
      ],
      "metadata": {
        "colab": {
          "base_uri": "https://localhost:8080/"
        },
        "id": "_eDKSuzD9wrx",
        "outputId": "daf2a8cd-7f5e-436d-b447-5a22b57c279f"
      },
      "execution_count": 13,
      "outputs": [
        {
          "output_type": "stream",
          "name": "stdout",
          "text": [
            "Modified list: [1, 5, 3]\n",
            "Error: 'tuple' object does not support item assignment\n"
          ]
        }
      ]
    },
    {
      "cell_type": "code",
      "source": [
        "#Convert user input to integer, float, and boolean\n",
        "user_input = input(\"Enter a value: \")\n",
        "\n",
        "int_value = int(user_input)\n",
        "float_value = float(user_input)\n",
        "bool_value = bool(int(user_input))\n",
        "\n",
        "print(f\"Integer: {int_value}, Float: {float_value}, Boolean: {bool_value}\")\n"
      ],
      "metadata": {
        "id": "a3X7i_Wc_fel"
      },
      "execution_count": null,
      "outputs": []
    },
    {
      "cell_type": "code",
      "source": [
        "#Write code to demonstrate type casting with list elements.\n",
        "str_list = [\"10\", \"20\", \"30\"]\n",
        "int_list = [int(x) for x in str_list]  # Convert all elements to integers\n",
        "\n",
        "print(\"Original List:\", str_list)\n",
        "print(\"Converted List:\", int_list)\n"
      ],
      "metadata": {
        "id": "uPgnrIIm_uHU"
      },
      "execution_count": null,
      "outputs": []
    },
    {
      "cell_type": "code",
      "source": [
        "#Write a program that checks if a number is positive, negative, or zero.\n",
        "num = float(input(\"Enter a number: \"))\n",
        "\n",
        "if num > 0:\n",
        "    print(\"The number is positive.\")\n",
        "elif num < 0:\n",
        "    print(\"The number is negative.\")\n",
        "else:\n",
        "    print(\"The number is zero.\")\n"
      ],
      "metadata": {
        "id": "ufS3Bvt4_7UV"
      },
      "execution_count": null,
      "outputs": []
    },
    {
      "cell_type": "code",
      "source": [
        "# Write a for loop to print numbers from 1 to 10.\n",
        "for i in range(1,11):\n",
        "  print(i)"
      ],
      "metadata": {
        "colab": {
          "base_uri": "https://localhost:8080/"
        },
        "id": "63lrpaF9AOUa",
        "outputId": "83ec28ba-33c4-4eef-f319-9fe0ba01d1a9"
      },
      "execution_count": 14,
      "outputs": [
        {
          "output_type": "stream",
          "name": "stdout",
          "text": [
            "1\n",
            "2\n",
            "3\n",
            "4\n",
            "5\n",
            "6\n",
            "7\n",
            "8\n",
            "9\n",
            "10\n"
          ]
        }
      ]
    },
    {
      "cell_type": "code",
      "source": [
        "#Write a Python program to find the sum of all even numbers between 1 and 50.\n",
        "sum_even = sum(i for i in range(1,51) if i%2 == 0)\n",
        "print(\"Sum of even numbers between 1 and 50: \",sum_even)"
      ],
      "metadata": {
        "colab": {
          "base_uri": "https://localhost:8080/"
        },
        "id": "w1cqWhC2AYx-",
        "outputId": "6e4e3466-024a-4c8c-d3e7-ca6ba03663a1"
      },
      "execution_count": 15,
      "outputs": [
        {
          "output_type": "stream",
          "name": "stdout",
          "text": [
            "Sum of even numbers between 1 and 50:  650\n"
          ]
        }
      ]
    },
    {
      "cell_type": "code",
      "source": [
        "# Write a program to reverse a string using a while loop.\n",
        "text = input(\"Enter a string: \")\n",
        "reversed_text = \"\"\n",
        "i = len(text) - 1\n",
        "\n",
        "while i >= 0:\n",
        "    reversed_text += text[i]\n",
        "    i -= 1\n",
        "\n",
        "print(\"Reversed string:\", reversed_text)\n"
      ],
      "metadata": {
        "id": "AB_NO1yNA1-y"
      },
      "execution_count": null,
      "outputs": []
    },
    {
      "cell_type": "code",
      "source": [
        "#Write a Python program to calculate the factorial of a number provided by the user using a while loop\n",
        "num = int(input(\"Enter a number: \"))\n",
        "factorial = 1\n",
        "i = num\n",
        "\n",
        "while i > 1:\n",
        "    factorial *= i\n",
        "    i -= 1\n",
        "\n",
        "print(f\"Factorial of {num} is {factorial}\")\n"
      ],
      "metadata": {
        "id": "wQvZt4FJBRmw"
      },
      "execution_count": null,
      "outputs": []
    }
  ]
}