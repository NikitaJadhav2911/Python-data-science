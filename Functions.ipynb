{
  "nbformat": 4,
  "nbformat_minor": 0,
  "metadata": {
    "colab": {
      "provenance": []
    },
    "kernelspec": {
      "name": "python3",
      "display_name": "Python 3"
    },
    "language_info": {
      "name": "python"
    }
  },
  "cells": [
    {
      "cell_type": "markdown",
      "source": [],
      "metadata": {
        "id": "5UIAbKPjCobZ"
      }
    },
    {
      "cell_type": "markdown",
      "source": [
        "### **Functions**\n"
      ],
      "metadata": {
        "id": "Dp_EpVnanY52"
      }
    },
    {
      "cell_type": "markdown",
      "source": [
        "\n",
        "\n",
        "**1. What is the difference between a function and a method in Python?**\n",
        "   - A function is a block of code that performs a specific task and is called independently.\n",
        "   - A method is a function associated with an object and is called on that object.\n",
        "   - Example:\n",
        "     ```python\n",
        "     def func():\n",
        "         return \"This is a function\"\n",
        "\n",
        "     class MyClass:\n",
        "         def method(self):\n",
        "             return \"This is a method\"\n",
        "     \n",
        "\n",
        "**2. Explain the concept of function arguments and parameters in Python.**\n",
        "   - Parameters are the variables defined in a function definition.\n",
        "   - Arguments are the values passed to a function when calling it.\n",
        "   - Example:\n",
        "     ```python\n",
        "     def add(a, b):  # a and b are parameters\n",
        "         return a + b\n",
        "     print(add(2, 3))  # 2 and 3 are arguments\n",
        "     ```\n",
        "\n",
        "**3. What are the different ways to define and call a function in Python?**\n",
        "   - Regular function\n",
        "   - Lambda function\n",
        "   - Recursive function\n",
        "   - Built-in functions\n",
        "\n",
        "**4. What is the purpose of the return statement in a Python function?**\n",
        "   - It allows a function to return a value to the caller.\n",
        "   - Example:\n",
        "     ```python\n",
        "     def square(x):\n",
        "         return x * x\n",
        "     print(square(4))  # Output: 16\n",
        "     ```\n",
        "\n",
        "**5. What are iterators in Python and how do they differ from iterables?**\n",
        "   - Iterables are objects that can return an iterator (e.g., lists, tuples, dictionaries).\n",
        "   - Iterators are objects that allow iteration using __next__().\n",
        "   - Example:\n",
        "     ```python\n",
        "     my_list = [1, 2, 3]\n",
        "     iterator = iter(my_list)\n",
        "     print(next(iterator))  # Output: 1\n",
        "     ```\n",
        "\n",
        "**6. Explain the concept of generators in Python and how they are defined.**\n",
        "   - Generators are functions that yield values using yield instead of return.\n",
        "   - Example:\n",
        "     ```python\n",
        "     def my_generator():\n",
        "         yield 1\n",
        "         yield 2\n",
        "         yield 3\n",
        "     ```\n",
        "\n",
        "**7. What are the advantages of using generators over regular functions?**\n",
        "   - Saves memory (lazy evaluation)\n",
        "   - Improves performance for large data processing\n",
        "   - Example:\n",
        "     ```python\n",
        "     def count_up_to(n):\n",
        "         i = 1\n",
        "         while i <= n:\n",
        "             yield i\n",
        "             i += 1\n",
        "     ```\n",
        "\n",
        "**8. What is a lambda function in Python and when is it typically used?**\n",
        "   - An anonymous function defined using lambda.\n",
        "   - Example:\n",
        "     ```python\n",
        "     add = lambda x, y: x + y\n",
        "     print(add(2, 3))  # Output: 5\n",
        "     ```\n",
        "\n",
        "**9. Explain the purpose and usage of the map() function in Python.**\n",
        "   - map() applies a function to each item in an iterable.\n",
        "   - Example:\n",
        "     ```python\n",
        "     nums = [1, 2, 3, 4]\n",
        "     squares = list(map(lambda x: x**2, nums))\n",
        "     ```\n",
        "\n",
        "**10. What is the difference between map(), reduce(), and filter() functions?**\n",
        "   - map(): Applies a function to all elements in an iterable.\n",
        "   - reduce(): Applies a function cumulatively (from functools).\n",
        "   - filter(): Filters elements based on a condition.\n",
        "\n",
        "---\n",
        "\n",
        "\n"
      ],
      "metadata": {
        "id": "wHxrnQNDnm3t"
      }
    },
    {
      "cell_type": "markdown",
      "source": [],
      "metadata": {
        "id": "6WKG2HsU-UD7"
      }
    },
    {
      "cell_type": "code",
      "source": [],
      "metadata": {
        "id": "rD8smEvg-Tn7"
      },
      "execution_count": null,
      "outputs": []
    },
    {
      "cell_type": "markdown",
      "source": [
        "(https://drive.google.com/file/d/1pmTv6SlgyKxgaP8nC3EHFahHbqNzXsT7/view?usp=drive_link)"
      ],
      "metadata": {
        "id": "fZqU2lRJDcGX"
      }
    },
    {
      "cell_type": "markdown",
      "source": [],
      "metadata": {
        "id": "b0AcyCqwBcsn"
      }
    },
    {
      "cell_type": "markdown",
      "source": [],
      "metadata": {
        "id": "iBZfxC1GBkIL"
      }
    },
    {
      "cell_type": "markdown",
      "source": [
        "# **Practical Questions**\n"
      ],
      "metadata": {
        "id": "6IV860lqq38q"
      }
    },
    {
      "cell_type": "code",
      "source": [
        "#1. Write a Python function that takes a list of numbers as input and returns the sum of all even numbers in the list\n",
        "def sum1(numbers):\n",
        "  return sum(i for i in numbers if i%2==0)\n",
        "\n",
        "l=[2, 4 ,7 ,9 ,11, 47]\n",
        "print(sum1(l))"
      ],
      "metadata": {
        "colab": {
          "base_uri": "https://localhost:8080/"
        },
        "id": "6EV9oW8lrAn6",
        "outputId": "2af0b4ec-e177-4e01-ec52-5b71f531d57c"
      },
      "execution_count": null,
      "outputs": [
        {
          "output_type": "stream",
          "name": "stdout",
          "text": [
            "6\n"
          ]
        }
      ]
    },
    {
      "cell_type": "markdown",
      "source": [],
      "metadata": {
        "id": "3dBhDB3Uq12G"
      }
    },
    {
      "cell_type": "code",
      "source": [
        "#2. Create a Python function that accepts a string and returns the reverse of that string.\n",
        "def reversestr(s):\n",
        "  return s[::-1]\n",
        "\n",
        "string = \"Hello World\"\n",
        "print(reversestr(string))\n"
      ],
      "metadata": {
        "colab": {
          "base_uri": "https://localhost:8080/"
        },
        "id": "61JO1xgDsviU",
        "outputId": "3d1c5019-c471-473b-b249-7ac2c1aba476"
      },
      "execution_count": null,
      "outputs": [
        {
          "output_type": "stream",
          "name": "stdout",
          "text": [
            "dlroW olleH\n"
          ]
        }
      ]
    },
    {
      "cell_type": "code",
      "source": [
        "#3. Implement a Python function that takes a list of integers and returns a new list containing the squares of\n",
        "#each number.\n",
        "def square(l):\n",
        "  return [i**2 for i in l]\n",
        "\n",
        "l = [2, 3, 5, 9]\n",
        "print(square(l))"
      ],
      "metadata": {
        "colab": {
          "base_uri": "https://localhost:8080/"
        },
        "id": "TUsHkKthtRko",
        "outputId": "4f1b6114-6c9d-4624-ad5c-a435fbc30efb"
      },
      "execution_count": null,
      "outputs": [
        {
          "output_type": "stream",
          "name": "stdout",
          "text": [
            "[4, 9, 25, 81]\n"
          ]
        }
      ]
    },
    {
      "cell_type": "code",
      "source": [
        "#4. Write a Python function that checks if a given number is prime or not from 1 to 200.\n",
        "def prime(n):\n",
        "  if n<2:\n",
        "    return False\n",
        "  for i in range(2, int(n**0.5)+1):\n",
        "    if n%i==0:\n",
        "      return False\n",
        "  return True\n",
        "\n",
        "primeno = [num for num in range(1, 201) if prime(num)]\n",
        "print(primeno)\n",
        "\n"
      ],
      "metadata": {
        "colab": {
          "base_uri": "https://localhost:8080/"
        },
        "id": "ANs9SE3VuUT9",
        "outputId": "9475ee27-3038-4820-fc0e-f2c08d882ec6"
      },
      "execution_count": null,
      "outputs": [
        {
          "output_type": "stream",
          "name": "stdout",
          "text": [
            "[2, 3, 5, 7, 11, 13, 17, 19, 23, 29, 31, 37, 41, 43, 47, 53, 59, 61, 67, 71, 73, 79, 83, 89, 97, 101, 103, 107, 109, 113, 127, 131, 137, 139, 149, 151, 157, 163, 167, 173, 179, 181, 191, 193, 197, 199]\n"
          ]
        }
      ]
    },
    {
      "cell_type": "code",
      "source": [
        "#5. Create an iterator class in Python that generates the Fibonacci sequence up to a specified number of\n",
        "#terms.\n",
        "class FibonacciIterator:\n",
        "    def __init__(self, n):\n",
        "        self.n = n\n",
        "        self.a, self.b = 0, 1\n",
        "        self.count = 0\n",
        "\n",
        "    def __iter__(self):\n",
        "        return self\n",
        "\n",
        "    def __next__(self):\n",
        "        if self.count >= self.n:\n",
        "            raise StopIteration\n",
        "        fib_number = self.a\n",
        "        self.a, self.b = self.b, self.a + self.b\n",
        "        self.count += 1\n",
        "        return fib_number\n",
        "\n",
        "\n",
        "fib_iter = FibonacciIterator(10)\n",
        "for num in fib_iter:\n",
        "    print(num, end=\" \")\n"
      ],
      "metadata": {
        "colab": {
          "base_uri": "https://localhost:8080/"
        },
        "id": "5xAHBtPrv61C",
        "outputId": "a4f2f8ab-db42-49b0-d1fe-08b9905b712b"
      },
      "execution_count": null,
      "outputs": [
        {
          "output_type": "stream",
          "name": "stdout",
          "text": [
            "0 1 1 2 3 5 8 13 21 34 "
          ]
        }
      ]
    },
    {
      "cell_type": "code",
      "source": [
        "#6. Write a generator function in Python that yields the powers of 2 up to a given exponent.\n",
        "def power_of_two(exponent):\n",
        "  yield from(2**i for i in range(exponent+1))\n",
        "\n",
        "print(list(power_of_two(9)))"
      ],
      "metadata": {
        "colab": {
          "base_uri": "https://localhost:8080/"
        },
        "id": "sSDyfbl8xylx",
        "outputId": "b9630022-93cc-4d0a-8596-d4a4fa8b48b2"
      },
      "execution_count": null,
      "outputs": [
        {
          "output_type": "stream",
          "name": "stdout",
          "text": [
            "[1, 2, 4, 8, 16, 32, 64, 128, 256, 512]\n"
          ]
        }
      ]
    },
    {
      "cell_type": "code",
      "source": [
        "#7. Implement a generator function that reads a file line by line and yields each line as a string.\n",
        "def read_file_line_by_line(filename):\n",
        "    \"\"\"Generator function to read a file line by line.\"\"\"\n",
        "    try:\n",
        "        with open(filename, 'r') as file:\n",
        "            for line in file:\n",
        "                yield line.strip()\n",
        "    except FileNotFoundError:\n",
        "        print(f\"Error: The file '{filename}' was not found.\")\n",
        "\n",
        "\n",
        "for line in read_file_line_by_line(\"sample.txt\"):\n",
        "    print(line)\n"
      ],
      "metadata": {
        "colab": {
          "base_uri": "https://localhost:8080/"
        },
        "id": "GaPVWd6Wy5zE",
        "outputId": "27d1ff3f-4f05-497b-dbfc-16e5478fad23"
      },
      "execution_count": null,
      "outputs": [
        {
          "output_type": "stream",
          "name": "stdout",
          "text": [
            "Error: The file 'sample.txt' was not found.\n"
          ]
        }
      ]
    },
    {
      "cell_type": "code",
      "source": [
        "#8. Use a lambda function in Python to sort a list of tuples based on the second element of each tuple.\n",
        "\n",
        "tuples_list = [(1, 5), (3, 2), (7, 8), (4, 1), (6, 3)]\n",
        "\n",
        "sorted_list = sorted(tuples_list, key=lambda x: x[1])\n",
        "\n",
        "print(sorted_list)\n"
      ],
      "metadata": {
        "colab": {
          "base_uri": "https://localhost:8080/"
        },
        "id": "p8E4nobnztEI",
        "outputId": "599b7ec3-a3de-4e15-a3c3-e8f489ae9d42"
      },
      "execution_count": null,
      "outputs": [
        {
          "output_type": "stream",
          "name": "stdout",
          "text": [
            "[(4, 1), (3, 2), (6, 3), (1, 5), (7, 8)]\n"
          ]
        }
      ]
    },
    {
      "cell_type": "code",
      "source": [
        "#9. Write a Python program that uses map() to convert a list of temperatures from Celsius to Fahrenheit.\n",
        "celsius_to_fahrenheit = lambda c: (c * 9/5) + 32\n",
        "\n",
        "celsius_temps = [0, 10, 20, 30, 40, 100]\n",
        "\n",
        "fahrenheit_temps = list(map(celsius_to_fahrenheit, celsius_temps))\n",
        "\n",
        "print(fahrenheit_temps)\n"
      ],
      "metadata": {
        "colab": {
          "base_uri": "https://localhost:8080/"
        },
        "id": "3M0ash8J0ISJ",
        "outputId": "f4fa7cec-ef3f-45d6-a050-60dfd10380ab"
      },
      "execution_count": null,
      "outputs": [
        {
          "output_type": "stream",
          "name": "stdout",
          "text": [
            "[32.0, 50.0, 68.0, 86.0, 104.0, 212.0]\n"
          ]
        }
      ]
    },
    {
      "cell_type": "code",
      "source": [
        "#10. Create a Python program that uses filter() to remove all the vowels from a given string.\n",
        "def remove_vowels(string):\n",
        "    vowels = \"AEIOUaeiou\"\n",
        "    return \"\".join([char for char in string if char not in vowels])\n",
        "\n",
        "input_string = \"Python is awesome!\"\n",
        "output_string = remove_vowels(input_string)\n",
        "\n",
        "print(output_string)\n"
      ],
      "metadata": {
        "colab": {
          "base_uri": "https://localhost:8080/"
        },
        "id": "aR0Y-47o0s7e",
        "outputId": "e5a75cbe-1faa-4e86-8215-5d5d0fe73864"
      },
      "execution_count": null,
      "outputs": [
        {
          "output_type": "stream",
          "name": "stdout",
          "text": [
            "Pythn s wsm!\n"
          ]
        }
      ]
    },
    {
      "cell_type": "code",
      "source": [
        "##10 Sample order list: [Order Number,Book Title and Author, Quantity, Price per item]\n",
        "orders = [\n",
        "    [34587,'Learning Python Mark Lutz', 4, 40.95],\n",
        "    [9762, 'Programming Python Mark Lutz', 5, 56.80],\n",
        "    [77226, 'Head First Python Paul Barry', 3, 32.95],\n",
        "    [88112, 'Einfuhrung in Python3 Bernd Klein', 3, 24.99]\n",
        "]\n",
        "\n",
        "calculate_total = lambda order: (order[0], order[2] * order[3] + (10 if order[2] * order[3] < 100 else 0))\n",
        "\n",
        "result = list(map(calculate_total, orders))\n",
        "\n",
        "print(result)\n"
      ],
      "metadata": {
        "colab": {
          "base_uri": "https://localhost:8080/"
        },
        "id": "8bko_9be35Bs",
        "outputId": "115776fd-cb73-427d-b76a-843ae5cabb04"
      },
      "execution_count": 19,
      "outputs": [
        {
          "output_type": "stream",
          "name": "stdout",
          "text": [
            "[(34587, 163.8), (9762, 284.0), (77226, 108.85000000000001), (88112, 84.97)]\n"
          ]
        }
      ]
    }
  ]
}